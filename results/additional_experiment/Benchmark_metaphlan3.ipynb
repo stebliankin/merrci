{
 "cells": [
  {
   "attachments": {},
   "cell_type": "markdown",
   "metadata": {},
   "source": [
    "## Benchmark MERRCI with Metaphlan3\n",
    "\n",
    "\n",
    "### Objective\n",
    "Our analysis shows that <i>Klebsiella pneumoniae</i> and <i>Escherichia coli</i> are the most abundant species in the <a href=\"https://www.nature.com/articles/nmicrobiol201624\">Gibbson et al.</a> dataset. Such results can be biased, as reference sequences of those species are over-represented in the RefSeq database. To validate the effect of database bias, we compared the relative abundance of those species computed by MERRCI and state-of-the-art metagenomic profiler Metaphlan 3 <a href=\"https://elifesciences.org/articles/65088\">(Beghini et al., eLife, 2021)</a>. The effect of the database bias should be lower in Metaphlan 3, as species are counted with clade-specific marker genes with minimal overlap. \n",
    "\n",
    "First, 401 stool samples were downloaded from <a href=\"https://www.nature.com/articles/nmicrobiol201624\">Gibbson et al.</a> dataset:\n",
    "\n",
    "* `1-download_samples.sh`\n",
    "\n",
    "Then, for each sample, we computed relative abundance with metaphlan3:\n",
    "\n",
    "* `3-compute_abundance.sh`\n",
    "\n",
    "In this notebook, we explore the correlation of MERRCI and Metaphlan3 for the top 3 most abundant species.\n"
   ]
  },
  {
   "cell_type": "code",
   "execution_count": 1,
   "metadata": {},
   "outputs": [
    {
     "name": "stdout",
     "output_type": "stream",
     "text": [
      "Pearson correlation for Klebsiella pneumoniae: 0.7688921014794965; p-value: 1.4452519548478219e-77\n",
      "Pearson correlation for Escherichia coli: 0.8320989697461082; p-value: 1.2660905931597594e-101\n",
      "Pearson correlation for Staphylococcus epidermidis: 0.8529038773339754; p-value: 7.433550930682316e-112\n"
     ]
    }
   ],
   "source": [
    "import pandas as pd\n",
    "from scipy.stats import pearsonr\n",
    "\n",
    "\n",
    "#### Constants\n",
    "klebsiella_name_merrci = 'Klebsiella pneumoniae#abundance'\n",
    "klebsiella_name_metaphlan = 's__Klebsiella_pneumoniae'\n",
    "\n",
    "ecoli_name_merrci = 'Escherichia coli#abundance'\n",
    "ecoli_name_metaphlan = 's__Escherichia_coli'\n",
    "\n",
    "staph_name_merrci = 'Staphylococcus epidermidis#abundance'\n",
    "staph_name_metaphlan = 's__Staphylococcus_epidermidis'\n",
    "\n",
    "merrci_abundance = './data/PTR_species_filtered_metadata.csv'\n",
    "metaphlan_abundance = './out_abundance/merged_abundance_subset.csv'\n",
    "\n",
    "merrci_df = pd.read_csv(merrci_abundance, sep=',')\n",
    "merrci_df = merrci_df[['sample', ecoli_name_merrci, klebsiella_name_merrci, staph_name_merrci]]\n",
    "metaphlan_df = pd.read_csv(metaphlan_abundance, sep=',')\n",
    "metaphlan_df[klebsiella_name_metaphlan] = metaphlan_df[klebsiella_name_metaphlan] /100\n",
    "metaphlan_df[ecoli_name_metaphlan] = metaphlan_df[ecoli_name_metaphlan] /100\n",
    "metaphlan_df[staph_name_metaphlan] = metaphlan_df[staph_name_metaphlan] /100\n",
    "\n",
    "merged_df = merrci_df.merge(metaphlan_df, how='left', on='sample')\n",
    "\n",
    "\n",
    "#### Compute Correlation\n",
    "corr_klebsiella, pval = pearsonr(list(merged_df[klebsiella_name_merrci]), list(merged_df[klebsiella_name_metaphlan]))\n",
    "print(\"Pearson correlation for Klebsiella pneumoniae: {}; p-value: {}\".format(corr_klebsiella, pval))\n",
    "\n",
    "\n",
    "#### Compute Correlation\n",
    "corr_ecoli, pval = pearsonr(list(merged_df[ecoli_name_merrci]), list(merged_df[ecoli_name_metaphlan]))\n",
    "print(\"Pearson correlation for Escherichia coli: {}; p-value: {}\".format(corr_ecoli, pval))\n",
    "\n",
    "#### Compute Correlation\n",
    "corr_staph, pval = pearsonr(list(merged_df[staph_name_merrci]), list(merged_df[staph_name_metaphlan]))\n",
    "print(\"Pearson correlation for Staphylococcus epidermidis: {}; p-value: {}\".format(corr_staph, pval))"
   ]
  },
  {
   "cell_type": "markdown",
   "metadata": {},
   "source": [
    "### Results\n",
    "MERRCI and Metaphlan3 approaches had a significant Pearson’s correlation for top 3 most abundant species: Klebsiella pneumoniae (r=0.77, p-value=1e-77), Escherichia coli (r=0.83, p-value=1e-101), and Staphylococcus epidermidis (r=0.85, p-value=1e-111). Therefore, we conclude that bias towards species with over-represented sequences in RefSeq did not have a significant effect for <a href=\"https://www.nature.com/articles/nmicrobiol201624\">Gibbson et al.</a> dataset dataset.\n"
   ]
  }
 ],
 "metadata": {
  "kernelspec": {
   "display_name": "Python 3",
   "language": "python",
   "name": "python3"
  },
  "language_info": {
   "codemirror_mode": {
    "name": "ipython",
    "version": 3
   },
   "file_extension": ".py",
   "mimetype": "text/x-python",
   "name": "python",
   "nbconvert_exporter": "python",
   "pygments_lexer": "ipython3",
   "version": "3.8.3"
  }
 },
 "nbformat": 4,
 "nbformat_minor": 4
}
